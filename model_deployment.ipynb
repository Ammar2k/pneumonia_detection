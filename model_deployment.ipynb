{
 "cells": [
  {
   "cell_type": "code",
   "execution_count": 2,
   "id": "f9a66e6a",
   "metadata": {},
   "outputs": [
    {
     "name": "stdout",
     "output_type": "stream",
     "text": [
      "Writing app/model.py\n"
     ]
    }
   ],
   "source": [
    "%%writefile app/model.py\n",
    "import torch\n",
    "import torchvision\n",
    "\n",
    "def create_vit(seed: int=42):\n",
    "    weights = torchvision.models.ViT_B_16_Weights.DEFAULT\n",
    "    \n",
    "    transforms = weights.transforms()\n",
    "    \n",
    "    model = torchvision.models.vit_b_16(weights=weights)\n",
    "    \n",
    "    for param in model.parameters():\n",
    "        param.requires_grad = False\n",
    "        \n",
    "    torch.manual_seed(seed)\n",
    "    model.heads = torch.nn.Sequential(torch.nn.LayerNorm(normalized_shape=768),\n",
    "                                      torch.nn.Linear(in_features=768, out_features=1))\n",
    "    return model, transforms"
   ]
  },
  {
   "cell_type": "code",
   "execution_count": 20,
   "id": "02a227f8",
   "metadata": {},
   "outputs": [
    {
     "name": "stdout",
     "output_type": "stream",
     "text": [
      "[INFO] Copying chest_xray\\train\\NORMAL\\IM-0117-0001.jpeg to app\\examples\\IM-0117-0001.jpeg\n",
      "[INFO] Copying chest_xray\\train\\NORMAL\\IM-0154-0001.jpeg to app\\examples\\IM-0154-0001.jpeg\n",
      "[INFO] Copying chest_xray\\train\\PNEUMONIA\\person3_bacteria_10.jpeg to app\\examples\\person3_bacteria_10.jpeg\n",
      "[INFO] Copying chest_xray\\train\\PNEUMONIA\\person16_bacteria_54.jpeg to app\\examples\\person16_bacteria_54.jpeg\n"
     ]
    }
   ],
   "source": [
    "import shutil\n",
    "from pathlib import Path\n",
    "\n",
    "# 1. Create an examples directory\n",
    "app = Path(\"app/\")\n",
    "example_path = app / \"examples\"\n",
    "example_path.mkdir(parents=True, exist_ok=True)\n",
    "\n",
    "# 2. Collect three random test dataset image paths\n",
    "chest_xray_examples = [Path(\"chest_xray/train/NORMAL/IM-0117-0001.jpeg\"),\n",
    "                       Path(\"chest_xray/train/NORMAL/IM-0154-0001.jpeg\"),\n",
    "                       Path(\"chest_xray/train/PNEUMONIA/person3_bacteria_10.jpeg\"),\n",
    "                       Path(\"chest_xray/train/PNEUMONIA/person16_bacteria_54.jpeg\"),\n",
    "]\n",
    "\n",
    "# 3. Copy the three random images to the examples directory\n",
    "for example in chest_xray_examples:\n",
    "    destination = example_path / example.name\n",
    "    print(f\"[INFO] Copying {example} to {destination}\")\n",
    "    shutil.copy2(src=example, dst=destination)"
   ]
  },
  {
   "cell_type": "code",
   "execution_count": 18,
   "id": "9d892496",
   "metadata": {},
   "outputs": [
    {
     "name": "stdout",
     "output_type": "stream",
     "text": [
      "Overwriting app/app.py\n"
     ]
    }
   ],
   "source": [
    "%%writefile app/app.py\n",
    "import gradio as gr\n",
    "import os\n",
    "import torch\n",
    "\n",
    "from model import create_vit\n",
    "from timeit import default_timer as timer\n",
    "from typing import Tuple, Dict\n",
    "\n",
    "class_names = [\"NORMAL\", \"PNEUMONIA\"]\n",
    "\n",
    "vit_model, vit_transforms = create_vit(seed=42)\n",
    "\n",
    "vit_model.load_state_dict(\n",
    "    torch.load(\n",
    "        f=\"finetuned_vit_b_16_pneumonia_feature_extractor.pth\", \n",
    "        map_location=torch.device(\"cpu\")\n",
    "    )\n",
    ")\n",
    "\n",
    "def predict(img):\n",
    "    start_timer = timer()\n",
    "    \n",
    "    img = vit_transforms(img).unsqueeze(0)\n",
    "    \n",
    "    vit_model.eval()\n",
    "    with torch.inference_mode():\n",
    "        pred_prob_int = torch.sigmoid(vit_model(img)).round().int().squeeze()\n",
    "        \n",
    "    if pred_prob_int.item() == 1:\n",
    "        class_name = class_names[1]\n",
    "    else:\n",
    "        class_name = class_names[0]\n",
    "            \n",
    "    pred_time = round(timer() - start_timer, 5)\n",
    "    \n",
    "    return class_name, pred_time\n",
    "\n",
    "title = \"Detect Pneumonia from chest X-Ray\"\n",
    "description = \"A ViT feature extractor Computer Vision model to detect Pneumonia from X-Ray Images.\"\n",
    "article = \"Access project repository at [GitHub](https://github.com/Ammar2k)\"\n",
    "\n",
    "example_list = [[\"examples/\" + example] for example in os.listdir(\"examples\")]\n",
    "\n",
    "demo = gr.Interface(fn=predict, \n",
    "                    inputs=gr.Image(type=\"pil\"),\n",
    "                    outputs=[gr.Label(num_top_classes=6, label=\"Predictions\"), \n",
    "                    gr.Number(label=\"Prediction time(s)\")],\n",
    "                    examples=example_list,\n",
    "                    title=title,\n",
    "                    description=description,\n",
    "                    article=article\n",
    "                   )\n",
    "\n",
    "demo.launch()"
   ]
  },
  {
   "cell_type": "code",
   "execution_count": null,
   "id": "96689f36",
   "metadata": {},
   "outputs": [],
   "source": []
  }
 ],
 "metadata": {
  "kernelspec": {
   "display_name": "Python 3 (ipykernel)",
   "language": "python",
   "name": "python3"
  },
  "language_info": {
   "codemirror_mode": {
    "name": "ipython",
    "version": 3
   },
   "file_extension": ".py",
   "mimetype": "text/x-python",
   "name": "python",
   "nbconvert_exporter": "python",
   "pygments_lexer": "ipython3",
   "version": "3.9.16"
  }
 },
 "nbformat": 4,
 "nbformat_minor": 5
}
